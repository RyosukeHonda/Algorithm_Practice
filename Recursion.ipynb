{
 "cells": [
  {
   "cell_type": "markdown",
   "metadata": {},
   "source": [
    "# Recursion"
   ]
  },
  {
   "cell_type": "markdown",
   "metadata": {},
   "source": [
    "Recursive algorithms can be very space inefficient. Each recursive call adds a new layer to the stack, which means that if your algorithm recurses to a depth of n, it uses at least O(n) memory. For this reason, it's better to implement a recursive algorithm iteratively. All recursive algorithms can be implemented iteratively, although sometimes the code to do so is much more complex."
   ]
  },
  {
   "cell_type": "markdown",
   "metadata": {},
   "source": [
    "Drawing the recursive calls as a tree is a  great way to figure out the runtime of a recursive algorithm."
   ]
  },
  {
   "cell_type": "markdown",
   "metadata": {},
   "source": [
    "## Factorial"
   ]
  },
  {
   "cell_type": "code",
   "execution_count": 32,
   "metadata": {
    "collapsed": false
   },
   "outputs": [],
   "source": [
    "def factorial(n):\n",
    "    if n<0:\n",
    "        return \"Input should be positive integer\"\n",
    "    elif n<2:  #Base Case\n",
    "        return 1\n",
    "    else: #Recursive Case\n",
    "        return n*factorial(n-1)"
   ]
  },
  {
   "cell_type": "code",
   "execution_count": 218,
   "metadata": {
    "collapsed": false
   },
   "outputs": [
    {
     "name": "stdout",
     "output_type": "stream",
     "text": [
      "362880\n",
      "1\n",
      "Input should be positive integer\n"
     ]
    }
   ],
   "source": [
    "print(factorial(9))\n",
    "print(factorial(0))\n",
    "print(factorial(-1))"
   ]
  },
  {
   "cell_type": "code",
   "execution_count": 211,
   "metadata": {
    "collapsed": true
   },
   "outputs": [],
   "source": [
    "def factorial_memo(n):\n",
    "    memo=[None]*n\n",
    "    if n<0:\n",
    "        return \"Input should be positive integer\"\n",
    "    elif n<2:  #Base Case\n",
    "        return 1\n",
    "    memo[0]=1\n",
    "    memo[1]=1\n",
    "    for i in range(2,n):\n",
    "        memo[i]=memo[i-1]+memo[i-2]\n",
    "    return memo[n-1]+memo[n-2]"
   ]
  },
  {
   "cell_type": "code",
   "execution_count": 219,
   "metadata": {
    "collapsed": false
   },
   "outputs": [
    {
     "data": {
      "text/plain": [
       "573147844013817084101"
      ]
     },
     "execution_count": 219,
     "metadata": {},
     "output_type": "execute_result"
    }
   ],
   "source": [
    "factorial_memo(100)"
   ]
  },
  {
   "cell_type": "markdown",
   "metadata": {},
   "source": [
    "## Fibonacci numbers"
   ]
  },
  {
   "cell_type": "code",
   "execution_count": 220,
   "metadata": {
    "collapsed": true
   },
   "outputs": [],
   "source": [
    "def fibonacci(n):\n",
    "    if n<2: #Base Case\n",
    "        return n\n",
    "    else: #Recursion Case\n",
    "        return fibonacci(n-1)+fibonacci(n-2)"
   ]
  },
  {
   "cell_type": "code",
   "execution_count": 221,
   "metadata": {
    "collapsed": false
   },
   "outputs": [
    {
     "name": "stdout",
     "output_type": "stream",
     "text": [
      "0\n",
      "2\n",
      "9227465\n"
     ]
    }
   ],
   "source": [
    "print(fibonacci(0))\n",
    "print(fibonacci(3))\n",
    "print(fibonacci(35))"
   ]
  },
  {
   "cell_type": "markdown",
   "metadata": {},
   "source": [
    "Calculating the same value from scratch takes much more time and that is inefficient. Therefore other way of solution is needed.\n",
    "Dynamic programming will be the choice of it."
   ]
  },
  {
   "cell_type": "code",
   "execution_count": 222,
   "metadata": {
    "collapsed": true
   },
   "outputs": [],
   "source": [
    "def fibonacci_memo(n):\n",
    "    if n==0:\n",
    "        return 0\n",
    "    elif n ==1:\n",
    "        return 1\n",
    "    memo =[None]*n\n",
    "    memo[0]=0\n",
    "    memo[1]=1\n",
    "    for i in range(2,n):\n",
    "        memo[i]=memo[i-1]+memo[i-2]\n",
    "    return memo[n-1]+memo[n-2]"
   ]
  },
  {
   "cell_type": "code",
   "execution_count": 223,
   "metadata": {
    "collapsed": false
   },
   "outputs": [
    {
     "data": {
      "text/plain": [
       "9227465"
      ]
     },
     "execution_count": 223,
     "metadata": {},
     "output_type": "execute_result"
    }
   ],
   "source": [
    "fibonacci_memo(35)"
   ]
  },
  {
   "cell_type": "markdown",
   "metadata": {},
   "source": [
    "# Questions"
   ]
  },
  {
   "cell_type": "markdown",
   "metadata": {},
   "source": [
    "## Triple Step:\n",
    "A child is running up a staircase with n steps and can hop either 1 step, 2 steps, or 3 steps at a time. Implement a method to count how many possible ways the child can run up the stairs."
   ]
  },
  {
   "cell_type": "code",
   "execution_count": 224,
   "metadata": {
    "collapsed": true
   },
   "outputs": [],
   "source": [
    "def step(n):\n",
    "    if n<0:\n",
    "        return 0\n",
    "    elif n==0:\n",
    "        return 1\n",
    "    else:\n",
    "        return step(n-1)+step(n-2)+step(n-3)"
   ]
  },
  {
   "cell_type": "code",
   "execution_count": 239,
   "metadata": {
    "collapsed": false
   },
   "outputs": [
    {
     "data": {
      "text/plain": [
       "53798080"
      ]
     },
     "execution_count": 239,
     "metadata": {},
     "output_type": "execute_result"
    }
   ],
   "source": [
    "step(30)"
   ]
  },
  {
   "cell_type": "code",
   "execution_count": 235,
   "metadata": {
    "collapsed": true
   },
   "outputs": [],
   "source": [
    "def step_memo(n):\n",
    "    if n<0:\n",
    "        return 0\n",
    "    elif n==0:\n",
    "        return 1\n",
    "    elif n<=2:\n",
    "        return n\n",
    "    memo =[None]*n\n",
    "    memo[0]=1\n",
    "    memo[1]=1\n",
    "    memo[2]=2\n",
    "    for i in range(3,n):\n",
    "        memo[i] = memo[i-1] + memo[i-2] + memo[i-3]\n",
    "    return memo[n-1]+memo[n-2]+memo[n-3]"
   ]
  },
  {
   "cell_type": "code",
   "execution_count": 243,
   "metadata": {
    "collapsed": false
   },
   "outputs": [
    {
     "data": {
      "text/plain": [
       "53798080"
      ]
     },
     "execution_count": 243,
     "metadata": {},
     "output_type": "execute_result"
    }
   ],
   "source": [
    "step_memo(30)"
   ]
  },
  {
   "cell_type": "markdown",
   "metadata": {},
   "source": [
    "## Magic index:\n",
    "A magic index in an array A[0...n-1] is defined to be an index such that A[i] = i.\n",
    "Given a sorted array of distinct integers, write a method to find a magic index. if one exists, in array A.\n",
    "\n",
    "FOLLOW UP\n",
    "\n",
    "What if the values are not distinct?"
   ]
  },
  {
   "cell_type": "code",
   "execution_count": 257,
   "metadata": {
    "collapsed": true
   },
   "outputs": [],
   "source": [
    "def magic_index(array):\n",
    "    for i in range(len(array)):\n",
    "        if (array[i]==i):\n",
    "            return i\n",
    "    return -1"
   ]
  },
  {
   "cell_type": "code",
   "execution_count": 272,
   "metadata": {
    "collapsed": true
   },
   "outputs": [],
   "source": [
    "def magicFast(array):\n",
    "    return fast_magic_index(array,0,len(array)-1)\n",
    "def fast_magic_index(array,low,high):\n",
    "    mid = (low+high)//2\n",
    "    while(low<=high):\n",
    "        if array[mid]== mid:\n",
    "            return mid\n",
    "        if array[mid]<mid:\n",
    "            low = mid +1\n",
    "            return fast_magic_index(array,low,high)\n",
    "        else:\n",
    "            high = mid - 1\n",
    "            return fast_magic_index(array,low,high)\n",
    "    return -1\n",
    "            "
   ]
  },
  {
   "cell_type": "code",
   "execution_count": 275,
   "metadata": {
    "collapsed": true
   },
   "outputs": [],
   "source": [
    "A= [-40,-20,-1,1,2,3,5,7,9,12,13]"
   ]
  },
  {
   "cell_type": "code",
   "execution_count": 276,
   "metadata": {
    "collapsed": false
   },
   "outputs": [
    {
     "data": {
      "text/plain": [
       "7"
      ]
     },
     "execution_count": 276,
     "metadata": {},
     "output_type": "execute_result"
    }
   ],
   "source": [
    "magicFast(A)"
   ]
  },
  {
   "cell_type": "code",
   "execution_count": null,
   "metadata": {
    "collapsed": true
   },
   "outputs": [],
   "source": []
  }
 ],
 "metadata": {
  "hide_input": false,
  "kernelspec": {
   "display_name": "Python 3",
   "language": "python",
   "name": "python3"
  },
  "language_info": {
   "codemirror_mode": {
    "name": "ipython",
    "version": 3
   },
   "file_extension": ".py",
   "mimetype": "text/x-python",
   "name": "python",
   "nbconvert_exporter": "python",
   "pygments_lexer": "ipython3",
   "version": "3.5.1"
  },
  "latex_envs": {
   "bibliofile": "biblio.bib",
   "cite_by": "apalike",
   "current_citInitial": 1,
   "eqLabelWithNumbers": true,
   "eqNumInitial": 0
  },
  "nav_menu": {},
  "toc": {
   "navigate_menu": true,
   "number_sections": true,
   "sideBar": true,
   "threshold": 6,
   "toc_cell": false,
   "toc_section_display": "block",
   "toc_window_display": false
  }
 },
 "nbformat": 4,
 "nbformat_minor": 0
}

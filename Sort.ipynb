{
 "cells": [
  {
   "cell_type": "code",
   "execution_count": 168,
   "metadata": {
    "collapsed": false
   },
   "outputs": [
    {
     "name": "stdout",
     "output_type": "stream",
     "text": [
      "[1, 4, 7, 10, 13, 0, 0, 0, 0, 0, 0, 0, 0, 0, 0] [4, 6, 8, 10, 12, 14, 16, 18, 20, 22]\n",
      "[1, 4, 4, 6, 7, 8, 10, 10, 12, 13, 14, 16, 18, 20, 22]\n"
     ]
    }
   ],
   "source": [
    "def SortedMerge(A, B):\n",
    "    index = len(A) - 1\n",
    "    indexB = len(B) - 1\n",
    "    indexA = len(A) - len(B) - 1\n",
    "\n",
    "    while indexB >= 0:\n",
    "        if indexA > 0 and A[indexA] > B[indexB]:\n",
    "            A[index] = A[indexA]\n",
    "            indexA -= 1\n",
    "        else:\n",
    "            A[index] = B[indexB]\n",
    "            indexB -= 1\n",
    "        index -= 1\n",
    "    return A\n",
    "\n",
    "\n",
    "def FillArrayUpTo(maxnum):\n",
    "    nums = [0] * maxnum\n",
    "    for i in range(len(nums)):\n",
    "        nums[i] = 2 * i + 4\n",
    "    return nums\n",
    "\n",
    "\n",
    "def FillArrayWithBuffer(length, buffer):\n",
    "    nums = [0] * (length + buffer)\n",
    "    for i in range(length):\n",
    "        nums[i] = 3 * i + 1\n",
    "    return nums\n",
    "\n",
    "A = FillArrayWithBuffer(5, 10)\n",
    "B = FillArrayUpTo(10)\n",
    "print (A, B)\n",
    "print (SortedMerge(A, B))"
   ]
  },
  {
   "cell_type": "code",
   "execution_count": null,
   "metadata": {
    "collapsed": true
   },
   "outputs": [],
   "source": []
  }
 ],
 "metadata": {
  "hide_input": false,
  "kernelspec": {
   "display_name": "Python 3",
   "language": "python",
   "name": "python3"
  },
  "language_info": {
   "codemirror_mode": {
    "name": "ipython",
    "version": 3
   },
   "file_extension": ".py",
   "mimetype": "text/x-python",
   "name": "python",
   "nbconvert_exporter": "python",
   "pygments_lexer": "ipython3",
   "version": "3.5.1"
  },
  "latex_envs": {
   "bibliofile": "biblio.bib",
   "cite_by": "apalike",
   "current_citInitial": 1,
   "eqLabelWithNumbers": true,
   "eqNumInitial": 0
  },
  "nav_menu": {},
  "toc": {
   "navigate_menu": true,
   "number_sections": true,
   "sideBar": true,
   "threshold": 6,
   "toc_cell": false,
   "toc_section_display": "block",
   "toc_window_display": false
  }
 },
 "nbformat": 4,
 "nbformat_minor": 0
}
